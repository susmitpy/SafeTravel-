{
 "cells": [
  {
   "cell_type": "code",
   "execution_count": 1,
   "metadata": {},
   "outputs": [
    {
     "name": "stderr",
     "output_type": "stream",
     "text": [
      "/Users/susmitvengurlekar/opt/miniconda3/lib/python3.7/importlib/_bootstrap.py:219: RuntimeWarning: numpy.ufunc size changed, may indicate binary incompatibility. Expected 192 from C header, got 216 from PyObject\n",
      "  return f(*args, **kwds)\n",
      "/Users/susmitvengurlekar/opt/miniconda3/lib/python3.7/importlib/_bootstrap.py:219: RuntimeWarning: numpy.ufunc size changed, may indicate binary incompatibility. Expected 192 from C header, got 216 from PyObject\n",
      "  return f(*args, **kwds)\n",
      "/Users/susmitvengurlekar/opt/miniconda3/lib/python3.7/importlib/_bootstrap.py:219: RuntimeWarning: numpy.ufunc size changed, may indicate binary incompatibility. Expected 192 from C header, got 216 from PyObject\n",
      "  return f(*args, **kwds)\n",
      "/Users/susmitvengurlekar/opt/miniconda3/lib/python3.7/importlib/_bootstrap.py:219: RuntimeWarning: numpy.ufunc size changed, may indicate binary incompatibility. Expected 192 from C header, got 216 from PyObject\n",
      "  return f(*args, **kwds)\n",
      "/Users/susmitvengurlekar/opt/miniconda3/lib/python3.7/importlib/_bootstrap.py:219: RuntimeWarning: numpy.ufunc size changed, may indicate binary incompatibility. Expected 192 from C header, got 216 from PyObject\n",
      "  return f(*args, **kwds)\n"
     ]
    }
   ],
   "source": [
    "import pandas as pd\n",
    "import numpy as np\n",
    "import matplotlib.pyplot as plt\n",
    "\n",
    "import seaborn as sns"
   ]
  },
  {
   "cell_type": "code",
   "execution_count": 127,
   "metadata": {},
   "outputs": [],
   "source": [
    "df = pd.read_csv(\"../raw_data/train.csv\")"
   ]
  },
  {
   "cell_type": "code",
   "execution_count": 3,
   "metadata": {},
   "outputs": [
    {
     "data": {
      "text/html": [
       "<div>\n",
       "<style scoped>\n",
       "    .dataframe tbody tr th:only-of-type {\n",
       "        vertical-align: middle;\n",
       "    }\n",
       "\n",
       "    .dataframe tbody tr th {\n",
       "        vertical-align: top;\n",
       "    }\n",
       "\n",
       "    .dataframe thead th {\n",
       "        text-align: right;\n",
       "    }\n",
       "</style>\n",
       "<table border=\"1\" class=\"dataframe\">\n",
       "  <thead>\n",
       "    <tr style=\"text-align: right;\">\n",
       "      <th></th>\n",
       "      <th>ID</th>\n",
       "      <th>Agency</th>\n",
       "      <th>Agency Type</th>\n",
       "      <th>Distribution Channel</th>\n",
       "      <th>Product Name</th>\n",
       "      <th>Duration</th>\n",
       "      <th>Destination</th>\n",
       "      <th>Net Sales</th>\n",
       "      <th>Commision (in value)</th>\n",
       "      <th>Age</th>\n",
       "      <th>Claim</th>\n",
       "    </tr>\n",
       "  </thead>\n",
       "  <tbody>\n",
       "    <tr>\n",
       "      <th>0</th>\n",
       "      <td>2010</td>\n",
       "      <td>EPX</td>\n",
       "      <td>Travel Agency</td>\n",
       "      <td>Online</td>\n",
       "      <td>Cancellation Plan</td>\n",
       "      <td>61</td>\n",
       "      <td>PHILIPPINES</td>\n",
       "      <td>12.0</td>\n",
       "      <td>0.00</td>\n",
       "      <td>41</td>\n",
       "      <td>0</td>\n",
       "    </tr>\n",
       "    <tr>\n",
       "      <th>1</th>\n",
       "      <td>4245</td>\n",
       "      <td>EPX</td>\n",
       "      <td>Travel Agency</td>\n",
       "      <td>Online</td>\n",
       "      <td>Cancellation Plan</td>\n",
       "      <td>4</td>\n",
       "      <td>MALAYSIA</td>\n",
       "      <td>17.0</td>\n",
       "      <td>0.00</td>\n",
       "      <td>35</td>\n",
       "      <td>0</td>\n",
       "    </tr>\n",
       "    <tr>\n",
       "      <th>2</th>\n",
       "      <td>9251</td>\n",
       "      <td>CWT</td>\n",
       "      <td>Travel Agency</td>\n",
       "      <td>Online</td>\n",
       "      <td>Rental Vehicle Excess Insurance</td>\n",
       "      <td>26</td>\n",
       "      <td>THAILAND</td>\n",
       "      <td>19.8</td>\n",
       "      <td>11.88</td>\n",
       "      <td>47</td>\n",
       "      <td>0</td>\n",
       "    </tr>\n",
       "    <tr>\n",
       "      <th>3</th>\n",
       "      <td>4754</td>\n",
       "      <td>EPX</td>\n",
       "      <td>Travel Agency</td>\n",
       "      <td>Online</td>\n",
       "      <td>2 way Comprehensive Plan</td>\n",
       "      <td>15</td>\n",
       "      <td>HONG KONG</td>\n",
       "      <td>27.0</td>\n",
       "      <td>0.00</td>\n",
       "      <td>48</td>\n",
       "      <td>0</td>\n",
       "    </tr>\n",
       "    <tr>\n",
       "      <th>4</th>\n",
       "      <td>8840</td>\n",
       "      <td>EPX</td>\n",
       "      <td>Travel Agency</td>\n",
       "      <td>Online</td>\n",
       "      <td>2 way Comprehensive Plan</td>\n",
       "      <td>15</td>\n",
       "      <td>MALAYSIA</td>\n",
       "      <td>37.0</td>\n",
       "      <td>0.00</td>\n",
       "      <td>36</td>\n",
       "      <td>0</td>\n",
       "    </tr>\n",
       "  </tbody>\n",
       "</table>\n",
       "</div>"
      ],
      "text/plain": [
       "     ID Agency    Agency Type Distribution Channel  \\\n",
       "0  2010    EPX  Travel Agency               Online   \n",
       "1  4245    EPX  Travel Agency               Online   \n",
       "2  9251    CWT  Travel Agency               Online   \n",
       "3  4754    EPX  Travel Agency               Online   \n",
       "4  8840    EPX  Travel Agency               Online   \n",
       "\n",
       "                      Product Name  Duration  Destination  Net Sales  \\\n",
       "0                Cancellation Plan        61  PHILIPPINES       12.0   \n",
       "1                Cancellation Plan         4     MALAYSIA       17.0   \n",
       "2  Rental Vehicle Excess Insurance        26     THAILAND       19.8   \n",
       "3         2 way Comprehensive Plan        15    HONG KONG       27.0   \n",
       "4         2 way Comprehensive Plan        15     MALAYSIA       37.0   \n",
       "\n",
       "   Commision (in value)  Age  Claim  \n",
       "0                  0.00   41      0  \n",
       "1                  0.00   35      0  \n",
       "2                 11.88   47      0  \n",
       "3                  0.00   48      0  \n",
       "4                  0.00   36      0  "
      ]
     },
     "execution_count": 3,
     "metadata": {},
     "output_type": "execute_result"
    }
   ],
   "source": [
    "df.head()"
   ]
  },
  {
   "cell_type": "code",
   "execution_count": 4,
   "metadata": {},
   "outputs": [
    {
     "name": "stdout",
     "output_type": "stream",
     "text": [
      "<class 'pandas.core.frame.DataFrame'>\n",
      "RangeIndex: 52310 entries, 0 to 52309\n",
      "Data columns (total 11 columns):\n",
      " #   Column                Non-Null Count  Dtype  \n",
      "---  ------                --------------  -----  \n",
      " 0   ID                    52310 non-null  int64  \n",
      " 1   Agency                52310 non-null  object \n",
      " 2   Agency Type           52310 non-null  object \n",
      " 3   Distribution Channel  52310 non-null  object \n",
      " 4   Product Name          52310 non-null  object \n",
      " 5   Duration              52310 non-null  int64  \n",
      " 6   Destination           52310 non-null  object \n",
      " 7   Net Sales             52310 non-null  float64\n",
      " 8   Commision (in value)  52310 non-null  float64\n",
      " 9   Age                   52310 non-null  int64  \n",
      " 10  Claim                 52310 non-null  int64  \n",
      "dtypes: float64(2), int64(4), object(5)\n",
      "memory usage: 4.4+ MB\n"
     ]
    }
   ],
   "source": [
    "df.info()"
   ]
  },
  {
   "cell_type": "code",
   "execution_count": 128,
   "metadata": {},
   "outputs": [],
   "source": [
    "df = df.drop(\"ID\",axis=1)"
   ]
  },
  {
   "cell_type": "code",
   "execution_count": 14,
   "metadata": {},
   "outputs": [
    {
     "name": "stdout",
     "output_type": "stream",
     "text": [
      "Column: Agency\n",
      "No of unique labels: 16\n",
      "EPX    50.120436\n",
      "C2B    20.292487\n",
      "CWT    13.024278\n",
      "JZI     8.830052\n",
      "LWC     1.540814\n",
      "SSI     1.491111\n",
      "JWT     1.051424\n",
      "RAB     1.007456\n",
      "TST     0.753202\n",
      "KML     0.598356\n",
      "ART     0.426305\n",
      "CCR     0.298222\n",
      "TTW     0.198815\n",
      "CBH     0.145288\n",
      "CSR     0.114701\n",
      "ADM     0.107054\n",
      "Name: Agency, dtype: float64\n",
      "Column: Agency Type\n",
      "No of unique labels: 2\n",
      "Travel Agency    66.901166\n",
      "Airlines         33.098834\n",
      "Name: Agency Type, dtype: float64\n",
      "Column: Distribution Channel\n",
      "No of unique labels: 2\n",
      "Online     98.296693\n",
      "Offline     1.703307\n",
      "Name: Distribution Channel, dtype: float64\n",
      "Column: Product Name\n",
      "No of unique labels: 25\n",
      "Cancellation Plan                       25.337412\n",
      "2 way Comprehensive Plan                20.177786\n",
      "Rental Vehicle Excess Insurance         13.024278\n",
      "Bronze Plan                              9.028866\n",
      "Basic Plan                               7.727012\n",
      "Silver Plan                              5.471229\n",
      "1 way Comprehensive Plan                 4.605238\n",
      "Annual Silver Plan                       4.488626\n",
      "Value Plan                               3.748805\n",
      "Ticket Protector                         1.491111\n",
      "Travel Cruise Protect                    0.753202\n",
      "Gold Plan                                0.726439\n",
      "Annual Gold Plan                         0.563946\n",
      "Comprehensive Plan                       0.531447\n",
      "Single Trip Travel Protect Gold          0.479832\n",
      "Annual Travel Protect Gold               0.349838\n",
      "24 Protect                               0.315427\n",
      "Premier Plan                             0.269547\n",
      "Single Trip Travel Protect Silver        0.248518\n",
      "Single Trip Travel Protect Platinum      0.191168\n",
      "Annual Travel Protect Silver             0.175875\n",
      "Individual Comprehensive Plan            0.160581\n",
      "Annual Travel Protect Platinum           0.095584\n",
      "Spouse or Parents Comprehensive Plan     0.022940\n",
      "Child Comprehensive Plan                 0.015293\n",
      "Name: Product Name, dtype: float64\n",
      "Column: Duration\n",
      "No of unique labels: 439\n",
      "5       3.102657\n",
      "6       3.083540\n",
      "8       2.959281\n",
      "7       2.921048\n",
      "10      2.875167\n",
      "          ...   \n",
      "434     0.001912\n",
      "529     0.001912\n",
      "497     0.001912\n",
      "4580    0.001912\n",
      "436     0.001912\n",
      "Name: Duration, Length: 439, dtype: float64\n",
      "Column: Destination\n",
      "No of unique labels: 97\n",
      "SINGAPORE       27.226152\n",
      "THAILAND         8.721086\n",
      "MALAYSIA         8.333015\n",
      "CHINA            7.472759\n",
      "AUSTRALIA        5.756070\n",
      "                  ...    \n",
      "BHUTAN           0.003823\n",
      "BERMUDA          0.003823\n",
      "BELARUS          0.003823\n",
      "ZAMBIA           0.001912\n",
      "TURKMENISTAN     0.001912\n",
      "Name: Destination, Length: 97, dtype: float64\n",
      "Column: Net Sales\n",
      "No of unique labels: 6700\n",
      "20.000000    8.115083\n",
      "10.000000    6.346779\n",
      "22.000000    3.135156\n",
      "0.000000     2.555917\n",
      "18.000000    2.223284\n",
      "               ...   \n",
      "53.259105    0.001912\n",
      "47.907555    0.001912\n",
      "10.602174    0.001912\n",
      "19.291379    0.001912\n",
      "93.407102    0.001912\n",
      "Name: Net Sales, Length: 6700, dtype: float64\n",
      "Column: Commision (in value)\n",
      "No of unique labels: 5101\n",
      "0.000000     50.200726\n",
      "7.700000      2.198432\n",
      "17.820000     2.183139\n",
      "23.760000     1.821831\n",
      "54.000000     1.596253\n",
      "               ...    \n",
      "1.530000      0.001912\n",
      "18.122231     0.001912\n",
      "16.960193     0.001912\n",
      "8.084330      0.001912\n",
      "41.050309     0.001912\n",
      "Name: Commision (in value), Length: 5101, dtype: float64\n",
      "Column: Age\n",
      "No of unique labels: 99\n",
      "36    34.370101\n",
      "31     4.366278\n",
      "35     3.794686\n",
      "48     3.484993\n",
      "30     2.620914\n",
      "        ...    \n",
      "4      0.001912\n",
      "96     0.001912\n",
      "92     0.001912\n",
      "94     0.001912\n",
      "2      0.001912\n",
      "Name: Age, Length: 99, dtype: float64\n",
      "Column: Claim\n",
      "No of unique labels: 2\n",
      "0    83.330147\n",
      "1    16.669853\n",
      "Name: Claim, dtype: float64\n"
     ]
    }
   ],
   "source": [
    "for c in df.columns:\n",
    "    print(f\"Column: {c}\")\n",
    "    print(f\"No of unique labels: {len(df[c].unique())}\")\n",
    "    print(df[c].value_counts()/len(df)*100)"
   ]
  },
  {
   "cell_type": "code",
   "execution_count": 15,
   "metadata": {},
   "outputs": [
    {
     "data": {
      "text/plain": [
       "Index(['Agency', 'Agency Type', 'Distribution Channel', 'Product Name',\n",
       "       'Duration', 'Destination', 'Net Sales', 'Commision (in value)', 'Age',\n",
       "       'Claim'],\n",
       "      dtype='object')"
      ]
     },
     "execution_count": 15,
     "metadata": {},
     "output_type": "execute_result"
    }
   ],
   "source": [
    "df.columns"
   ]
  },
  {
   "cell_type": "code",
   "execution_count": 31,
   "metadata": {},
   "outputs": [],
   "source": [
    "agency_top = df.groupby([\"Agency\"])[\"Claim\"].mean().sort_values(ascending=False)[:5].index\n",
    "agency_map = {j:i for i,j in enumerate(agency_top,1)}\n",
    "agency_mapping = {}\n",
    "for unique in df[\"Agency\"].unique():\n",
    "    if unique in agency_map:\n",
    "        agency_mapping[unique] = agency_map.get(unique)\n",
    "    else:\n",
    "        agency_mapping[unique] = 6"
   ]
  },
  {
   "cell_type": "code",
   "execution_count": 32,
   "metadata": {},
   "outputs": [],
   "source": [
    "df[\"Agency\"] = df[\"Agency\"].map(agency_mapping)"
   ]
  },
  {
   "cell_type": "code",
   "execution_count": 34,
   "metadata": {},
   "outputs": [
    {
     "data": {
      "text/plain": [
       "Product Name\n",
       "Annual Travel Protect Gold              0.655738\n",
       "Annual Silver Plan                      0.617973\n",
       "Annual Gold Plan                        0.583051\n",
       "Single Trip Travel Protect Platinum     0.500000\n",
       "Silver Plan                             0.483578\n",
       "Single Trip Travel Protect Gold         0.482072\n",
       "Individual Comprehensive Plan           0.440476\n",
       "Bronze Plan                             0.427694\n",
       "Gold Plan                               0.376316\n",
       "Annual Travel Protect Silver            0.336957\n",
       "Annual Travel Protect Platinum          0.280000\n",
       "2 way Comprehensive Plan                0.138039\n",
       "Rental Vehicle Excess Insurance         0.124468\n",
       "Single Trip Travel Protect Silver       0.123077\n",
       "Spouse or Parents Comprehensive Plan    0.083333\n",
       "Ticket Protector                        0.073077\n",
       "Basic Plan                              0.060861\n",
       "Travel Cruise Protect                   0.053299\n",
       "Value Plan                              0.047935\n",
       "Comprehensive Plan                      0.043165\n",
       "1 way Comprehensive Plan                0.028227\n",
       "Cancellation Plan                       0.026784\n",
       "Premier Plan                            0.014184\n",
       "Child Comprehensive Plan                0.000000\n",
       "24 Protect                              0.000000\n",
       "Name: Claim, dtype: float64"
      ]
     },
     "execution_count": 34,
     "metadata": {},
     "output_type": "execute_result"
    }
   ],
   "source": [
    "df.groupby([\"Product Name\"])[\"Claim\"].mean().sort_values(ascending=False)"
   ]
  },
  {
   "cell_type": "code",
   "execution_count": 35,
   "metadata": {},
   "outputs": [],
   "source": [
    "def is_premium_plan(plan):\n",
    "    parts = plan.split(\" \")\n",
    "    identifiers = [\"Gold\",\"Silver\",\"Platinum\",\"Bronze\"]\n",
    "    for part in parts:\n",
    "        if part in identifiers:\n",
    "            return 1\n",
    "    return 0\n",
    "    \n",
    "df[\"Premium_Plan\"] = df[\"Product Name\"].map(is_premium_plan)"
   ]
  },
  {
   "cell_type": "code",
   "execution_count": 36,
   "metadata": {},
   "outputs": [],
   "source": [
    "prod_name_top = df.groupby([\"Product Name\"])[\"Claim\"].mean().sort_values(ascending=False)[:10].index\n",
    "prod_name_map = {j:i for i,j in enumerate(prod_name_top,1)}\n",
    "prod_name_mappping = {}\n",
    "for unique in df[\"Product Name\"].unique():\n",
    "    if unique in prod_name_map:\n",
    "        prod_name_mappping[unique] = prod_name_map.get(unique)\n",
    "    else:\n",
    "        prod_name_mappping[unique] = 11"
   ]
  },
  {
   "cell_type": "code",
   "execution_count": 38,
   "metadata": {},
   "outputs": [],
   "source": [
    "df[\"Product Name\"] = df[\"Product Name\"].map(prod_name_mappping)"
   ]
  },
  {
   "cell_type": "code",
   "execution_count": 41,
   "metadata": {},
   "outputs": [
    {
     "data": {
      "text/plain": [
       "<matplotlib.axes._subplots.AxesSubplot at 0x7fbc30d5cd90>"
      ]
     },
     "execution_count": 41,
     "metadata": {},
     "output_type": "execute_result"
    },
    {
     "data": {
      "image/png": "[encoded data removed]",
      "text/plain": [
       "<Figure size 432x288 with 1 Axes>"
      ]
     },
     "metadata": {
      "needs_background": "light"
     },
     "output_type": "display_data"
    }
   ],
   "source": [
    "df[\"Duration\"].plot(kind=\"kde\")"
   ]
  },
  {
   "cell_type": "code",
   "execution_count": 43,
   "metadata": {},
   "outputs": [
    {
     "data": {
      "text/plain": [
       "count    52310.000000\n",
       "mean        58.256108\n",
       "std        109.138708\n",
       "min         -2.000000\n",
       "25%         10.000000\n",
       "50%         24.000000\n",
       "75%         57.000000\n",
       "max       4881.000000\n",
       "Name: Duration, dtype: float64"
      ]
     },
     "execution_count": 43,
     "metadata": {},
     "output_type": "execute_result"
    }
   ],
   "source": [
    "df[\"Duration\"].describe()"
   ]
  },
  {
   "cell_type": "code",
   "execution_count": 51,
   "metadata": {},
   "outputs": [
    {
     "data": {
      "text/plain": [
       "41424   -2\n",
       "11523   -1\n",
       "15949   -1\n",
       "33398   -1\n",
       "45657    0\n",
       "35801    0\n",
       "32526    0\n",
       "14346    0\n",
       "32489    0\n",
       "22925    0\n",
       "Name: Duration, dtype: int64"
      ]
     },
     "execution_count": 51,
     "metadata": {},
     "output_type": "execute_result"
    }
   ],
   "source": [
    "df[\"Duration\"].sort_values()[:10]"
   ]
  },
  {
   "cell_type": "code",
   "execution_count": 62,
   "metadata": {},
   "outputs": [
    {
     "data": {
      "text/plain": [
       "47791    4881\n",
       "14544    4847\n",
       "22123    4844\n",
       "7766     4831\n",
       "31985    4815\n",
       "48880    4784\n",
       "382      4736\n",
       "43158    4609\n",
       "33701    4580\n",
       "2609      740\n",
       "3469      547\n",
       "47724     545\n",
       "32698     531\n",
       "6017      529\n",
       "21677     508\n",
       "39662     508\n",
       "49964     497\n",
       "39351     494\n",
       "7662      490\n",
       "24738     488\n",
       "28094     487\n",
       "1628      474\n",
       "44311     472\n",
       "2465      466\n",
       "35173     466\n",
       "4978      465\n",
       "40035     463\n",
       "48674     459\n",
       "8384      457\n",
       "39222     457\n",
       "Name: Duration, dtype: int64"
      ]
     },
     "execution_count": 62,
     "metadata": {},
     "output_type": "execute_result"
    }
   ],
   "source": [
    "df[\"Duration\"].sort_values(ascending=False)[:30]"
   ]
  },
  {
   "cell_type": "code",
   "execution_count": 104,
   "metadata": {},
   "outputs": [],
   "source": [
    "df = df[df[\"Duration\"]>0]\n",
    "df = df.reset_index()"
   ]
  },
  {
   "cell_type": "code",
   "execution_count": 105,
   "metadata": {},
   "outputs": [
    {
     "data": {
      "text/plain": [
       "count    52264.000000\n",
       "mean        58.307477\n",
       "std        109.172984\n",
       "min          1.000000\n",
       "25%         10.000000\n",
       "50%         24.000000\n",
       "75%         57.000000\n",
       "max       4881.000000\n",
       "Name: Duration, dtype: float64"
      ]
     },
     "execution_count": 105,
     "metadata": {},
     "output_type": "execute_result"
    }
   ],
   "source": [
    "df[\"Duration\"].describe()"
   ]
  },
  {
   "cell_type": "code",
   "execution_count": 106,
   "metadata": {},
   "outputs": [],
   "source": [
    "def get_duration_category(d):\n",
    "    if d < 25:\n",
    "        return \"Short\"\n",
    "    elif d < 200:\n",
    "        return \"Medium\"\n",
    "    elif d < 750:\n",
    "        return \"Long\"\n",
    "    return \"Very Long\"\n",
    "\n",
    "df[\"Duration_Category\"] = df[\"Duration\"].map(get_duration_category)"
   ]
  },
  {
   "cell_type": "code",
   "execution_count": 107,
   "metadata": {},
   "outputs": [
    {
     "name": "stderr",
     "output_type": "stream",
     "text": [
      "/Users/susmitvengurlekar/opt/miniconda3/lib/python3.7/site-packages/ipykernel_launcher.py:1: FutureWarning: Indexing with multiple keys (implicitly converted to a tuple of keys) will be deprecated, use a list instead.\n",
      "  \"\"\"Entry point for launching an IPython kernel.\n"
     ]
    },
    {
     "data": {
      "text/html": [
       "<div>\n",
       "<style scoped>\n",
       "    .dataframe tbody tr th:only-of-type {\n",
       "        vertical-align: middle;\n",
       "    }\n",
       "\n",
       "    .dataframe tbody tr th {\n",
       "        vertical-align: top;\n",
       "    }\n",
       "\n",
       "    .dataframe thead th {\n",
       "        text-align: right;\n",
       "    }\n",
       "</style>\n",
       "<table border=\"1\" class=\"dataframe\">\n",
       "  <thead>\n",
       "    <tr style=\"text-align: right;\">\n",
       "      <th></th>\n",
       "      <th>Duration</th>\n",
       "      <th>Claim</th>\n",
       "    </tr>\n",
       "    <tr>\n",
       "      <th>Duration_Category</th>\n",
       "      <th></th>\n",
       "      <th></th>\n",
       "    </tr>\n",
       "  </thead>\n",
       "  <tbody>\n",
       "    <tr>\n",
       "      <th>Long</th>\n",
       "      <td>347.095684</td>\n",
       "      <td>0.499740</td>\n",
       "    </tr>\n",
       "    <tr>\n",
       "      <th>Medium</th>\n",
       "      <td>62.517360</td>\n",
       "      <td>0.154745</td>\n",
       "    </tr>\n",
       "    <tr>\n",
       "      <th>Short</th>\n",
       "      <td>11.130203</td>\n",
       "      <td>0.128498</td>\n",
       "    </tr>\n",
       "    <tr>\n",
       "      <th>Very Long</th>\n",
       "      <td>4769.666667</td>\n",
       "      <td>0.000000</td>\n",
       "    </tr>\n",
       "  </tbody>\n",
       "</table>\n",
       "</div>"
      ],
      "text/plain": [
       "                      Duration     Claim\n",
       "Duration_Category                       \n",
       "Long                347.095684  0.499740\n",
       "Medium               62.517360  0.154745\n",
       "Short                11.130203  0.128498\n",
       "Very Long          4769.666667  0.000000"
      ]
     },
     "execution_count": 107,
     "metadata": {},
     "output_type": "execute_result"
    }
   ],
   "source": [
    "df.groupby([\"Duration_Category\"])[\"Duration\",\"Claim\"].mean()"
   ]
  },
  {
   "cell_type": "code",
   "execution_count": 123,
   "metadata": {},
   "outputs": [],
   "source": [
    "for dur_cat in [\"Short\",\"Medium\",\"Long\",\"Very Long\"]:\n",
    "    subset = df[df[\"Duration_Category\"] == dur_cat]\n",
    "    X = subset[\"Duration\"]\n",
    "    mean = X.mean()\n",
    "    std = X.std()\n",
    "    dur = (X-mean)/std\n",
    "    df.loc[subset.index,\"Duration\"] = dur"
   ]
  },
  {
   "cell_type": "code",
   "execution_count": 124,
   "metadata": {},
   "outputs": [],
   "source": [
    "duration_category_mapper = {\n",
    "    \"Long\" : 3,\n",
    "    \"Medium\" : 2,\n",
    "    \"Short\" : 1,\n",
    "    \"Very Long\": 4\n",
    "}\n",
    "\n",
    "df[\"Duration_Category\"] = df[\"Duration_Category\"].map(duration_category_mapper)"
   ]
  },
  {
   "cell_type": "code",
   "execution_count": 125,
   "metadata": {},
   "outputs": [],
   "source": [
    "df[\"Duration_Time_Cat\"] = df[\"Duration\"]**2 * df[\"Duration_Category\"]"
   ]
  },
  {
   "cell_type": "code",
   "execution_count": 126,
   "metadata": {},
   "outputs": [
    {
     "data": {
      "text/plain": [
       "Index(['index', 'Agency', 'Agency Type', 'Distribution Channel',\n",
       "       'Product Name', 'Duration', 'Destination', 'Net Sales',\n",
       "       'Commision (in value)', 'Age', 'Claim', 'Premium_Plan',\n",
       "       'Duration_Category', 'Duration_Time_Cat'],\n",
       "      dtype='object')"
      ]
     },
     "execution_count": 126,
     "metadata": {},
     "output_type": "execute_result"
    }
   ],
   "source": [
    "df.columns"
   ]
  },
  {
   "cell_type": "code",
   "execution_count": 137,
   "metadata": {},
   "outputs": [],
   "source": [
    "dest_top = list(df[\"Destination\"].value_counts()[:14].index)\n",
    "dest_map = {j:i for i,j in enumerate(dest_top,1)}\n",
    "dest_mapping = {}\n",
    "for unique in df[\"Destination\"].unique():\n",
    "    if unique in dest_map:\n",
    "        dest_mapping[unique] = dest_map.get(unique)\n",
    "    else:\n",
    "        dest_mapping[unique] = 15"
   ]
  },
  {
   "cell_type": "code",
   "execution_count": 139,
   "metadata": {},
   "outputs": [],
   "source": [
    "df[\"Destination\"] = df[\"Destination\"].map(dest_mapping)"
   ]
  },
  {
   "cell_type": "code",
   "execution_count": 141,
   "metadata": {},
   "outputs": [
    {
     "data": {
      "text/plain": [
       "<matplotlib.axes._subplots.AxesSubplot at 0x7fbc35669150>"
      ]
     },
     "execution_count": 141,
     "metadata": {},
     "output_type": "execute_result"
    },
    {
     "data": {
      "image/png": "[encoded data removed]",
      "text/plain": [
       "<Figure size 432x288 with 1 Axes>"
      ]
     },
     "metadata": {
      "needs_background": "light"
     },
     "output_type": "display_data"
    }
   ],
   "source": [
    "df[\"Net Sales\"].hist(bins=50)"
   ]
  },
  {
   "cell_type": "code",
   "execution_count": 142,
   "metadata": {},
   "outputs": [
    {
     "data": {
      "text/plain": [
       "count    52310.000000\n",
       "mean        48.554673\n",
       "std         60.198589\n",
       "min       -389.000000\n",
       "25%         19.800000\n",
       "50%         29.500000\n",
       "75%         55.000000\n",
       "max        682.000000\n",
       "Name: Net Sales, dtype: float64"
      ]
     },
     "execution_count": 142,
     "metadata": {},
     "output_type": "execute_result"
    }
   ],
   "source": [
    "df[\"Net Sales\"].describe()"
   ]
  },
  {
   "cell_type": "code",
   "execution_count": 143,
   "metadata": {},
   "outputs": [],
   "source": [
    "df = df[df[\"Net Sales\"] >= 0]\n",
    "df = df.reset_index()"
   ]
  },
  {
   "cell_type": "code",
   "execution_count": 144,
   "metadata": {},
   "outputs": [
    {
     "data": {
      "text/plain": [
       "count    51807.000000\n",
       "mean        49.597162\n",
       "std         59.323558\n",
       "min          0.000000\n",
       "25%         20.000000\n",
       "50%         29.700000\n",
       "75%         56.000000\n",
       "max        682.000000\n",
       "Name: Net Sales, dtype: float64"
      ]
     },
     "execution_count": 144,
     "metadata": {},
     "output_type": "execute_result"
    }
   ],
   "source": [
    "df[\"Net Sales\"].describe()"
   ]
  },
  {
   "cell_type": "code",
   "execution_count": 147,
   "metadata": {},
   "outputs": [
    {
     "data": {
      "text/plain": [
       "<matplotlib.axes._subplots.AxesSubplot at 0x7fbc354e8850>"
      ]
     },
     "execution_count": 147,
     "metadata": {},
     "output_type": "execute_result"
    },
    {
     "data": {
      "image/png": "[encoded data removed]",
      "text/plain": [
       "<Figure size 432x288 with 1 Axes>"
      ]
     },
     "metadata": {
      "needs_background": "light"
     },
     "output_type": "display_data"
    }
   ],
   "source": [
    "df[\"Net Sales\"].hist()"
   ]
  },
  {
   "cell_type": "code",
   "execution_count": 148,
   "metadata": {},
   "outputs": [
    {
     "data": {
      "text/plain": [
       "<matplotlib.axes._subplots.AxesSubplot at 0x7fbc36141650>"
      ]
     },
     "execution_count": 148,
     "metadata": {},
     "output_type": "execute_result"
    },
    {
     "data": {
      "image/png": "[encoded data removed]",
      "text/plain": [
       "<Figure size 432x288 with 1 Axes>"
      ]
     },
     "metadata": {
      "needs_background": "light"
     },
     "output_type": "display_data"
    }
   ],
   "source": [
    "df[\"Age\"].hist()"
   ]
  },
  {
   "cell_type": "code",
   "execution_count": 149,
   "metadata": {},
   "outputs": [
    {
     "data": {
      "text/plain": [
       "count    51807.000000\n",
       "mean        39.548748\n",
       "std         13.748462\n",
       "min          0.000000\n",
       "25%         33.000000\n",
       "50%         36.000000\n",
       "75%         43.000000\n",
       "max        118.000000\n",
       "Name: Age, dtype: float64"
      ]
     },
     "execution_count": 149,
     "metadata": {},
     "output_type": "execute_result"
    }
   ],
   "source": [
    "df[\"Age\"].describe()"
   ]
  },
  {
   "cell_type": "code",
   "execution_count": 153,
   "metadata": {},
   "outputs": [
    {
     "data": {
      "text/html": [
       "<div>\n",
       "<style scoped>\n",
       "    .dataframe tbody tr th:only-of-type {\n",
       "        vertical-align: middle;\n",
       "    }\n",
       "\n",
       "    .dataframe tbody tr th {\n",
       "        vertical-align: top;\n",
       "    }\n",
       "\n",
       "    .dataframe thead th {\n",
       "        text-align: right;\n",
       "    }\n",
       "</style>\n",
       "<table border=\"1\" class=\"dataframe\">\n",
       "  <thead>\n",
       "    <tr style=\"text-align: right;\">\n",
       "      <th></th>\n",
       "      <th>index</th>\n",
       "      <th>Agency</th>\n",
       "      <th>Agency Type</th>\n",
       "      <th>Distribution Channel</th>\n",
       "      <th>Product Name</th>\n",
       "      <th>Duration</th>\n",
       "      <th>Destination</th>\n",
       "      <th>Net Sales</th>\n",
       "      <th>Commision (in value)</th>\n",
       "      <th>Age</th>\n",
       "      <th>Claim</th>\n",
       "    </tr>\n",
       "  </thead>\n",
       "  <tbody>\n",
       "    <tr>\n",
       "      <th>46</th>\n",
       "      <td>46</td>\n",
       "      <td>JWT</td>\n",
       "      <td>Airlines</td>\n",
       "      <td>Online</td>\n",
       "      <td>Value Plan</td>\n",
       "      <td>49</td>\n",
       "      <td>11</td>\n",
       "      <td>31.0</td>\n",
       "      <td>12.40</td>\n",
       "      <td>118</td>\n",
       "      <td>0</td>\n",
       "    </tr>\n",
       "    <tr>\n",
       "      <th>88</th>\n",
       "      <td>88</td>\n",
       "      <td>JWT</td>\n",
       "      <td>Airlines</td>\n",
       "      <td>Online</td>\n",
       "      <td>Value Plan</td>\n",
       "      <td>22</td>\n",
       "      <td>11</td>\n",
       "      <td>50.0</td>\n",
       "      <td>20.00</td>\n",
       "      <td>118</td>\n",
       "      <td>0</td>\n",
       "    </tr>\n",
       "    <tr>\n",
       "      <th>108</th>\n",
       "      <td>109</td>\n",
       "      <td>JWT</td>\n",
       "      <td>Airlines</td>\n",
       "      <td>Online</td>\n",
       "      <td>Value Plan</td>\n",
       "      <td>46</td>\n",
       "      <td>11</td>\n",
       "      <td>31.0</td>\n",
       "      <td>12.40</td>\n",
       "      <td>118</td>\n",
       "      <td>0</td>\n",
       "    </tr>\n",
       "    <tr>\n",
       "      <th>131</th>\n",
       "      <td>132</td>\n",
       "      <td>JWT</td>\n",
       "      <td>Airlines</td>\n",
       "      <td>Online</td>\n",
       "      <td>Value Plan</td>\n",
       "      <td>89</td>\n",
       "      <td>11</td>\n",
       "      <td>117.0</td>\n",
       "      <td>46.80</td>\n",
       "      <td>118</td>\n",
       "      <td>0</td>\n",
       "    </tr>\n",
       "    <tr>\n",
       "      <th>154</th>\n",
       "      <td>156</td>\n",
       "      <td>JWT</td>\n",
       "      <td>Airlines</td>\n",
       "      <td>Online</td>\n",
       "      <td>Value Plan</td>\n",
       "      <td>68</td>\n",
       "      <td>11</td>\n",
       "      <td>180.0</td>\n",
       "      <td>72.00</td>\n",
       "      <td>118</td>\n",
       "      <td>0</td>\n",
       "    </tr>\n",
       "    <tr>\n",
       "      <th>...</th>\n",
       "      <td>...</td>\n",
       "      <td>...</td>\n",
       "      <td>...</td>\n",
       "      <td>...</td>\n",
       "      <td>...</td>\n",
       "      <td>...</td>\n",
       "      <td>...</td>\n",
       "      <td>...</td>\n",
       "      <td>...</td>\n",
       "      <td>...</td>\n",
       "      <td>...</td>\n",
       "    </tr>\n",
       "    <tr>\n",
       "      <th>51550</th>\n",
       "      <td>52049</td>\n",
       "      <td>JWT</td>\n",
       "      <td>Airlines</td>\n",
       "      <td>Online</td>\n",
       "      <td>Value Plan</td>\n",
       "      <td>3</td>\n",
       "      <td>11</td>\n",
       "      <td>31.0</td>\n",
       "      <td>12.40</td>\n",
       "      <td>118</td>\n",
       "      <td>0</td>\n",
       "    </tr>\n",
       "    <tr>\n",
       "      <th>51579</th>\n",
       "      <td>52078</td>\n",
       "      <td>JWT</td>\n",
       "      <td>Airlines</td>\n",
       "      <td>Online</td>\n",
       "      <td>Value Plan</td>\n",
       "      <td>4</td>\n",
       "      <td>11</td>\n",
       "      <td>31.0</td>\n",
       "      <td>12.40</td>\n",
       "      <td>118</td>\n",
       "      <td>0</td>\n",
       "    </tr>\n",
       "    <tr>\n",
       "      <th>51706</th>\n",
       "      <td>52208</td>\n",
       "      <td>JWT</td>\n",
       "      <td>Airlines</td>\n",
       "      <td>Online</td>\n",
       "      <td>Value Plan</td>\n",
       "      <td>9</td>\n",
       "      <td>11</td>\n",
       "      <td>31.0</td>\n",
       "      <td>12.40</td>\n",
       "      <td>118</td>\n",
       "      <td>0</td>\n",
       "    </tr>\n",
       "    <tr>\n",
       "      <th>51711</th>\n",
       "      <td>52213</td>\n",
       "      <td>JZI</td>\n",
       "      <td>Airlines</td>\n",
       "      <td>Online</td>\n",
       "      <td>Value Plan</td>\n",
       "      <td>70</td>\n",
       "      <td>7</td>\n",
       "      <td>0.0</td>\n",
       "      <td>25.55</td>\n",
       "      <td>118</td>\n",
       "      <td>0</td>\n",
       "    </tr>\n",
       "    <tr>\n",
       "      <th>51759</th>\n",
       "      <td>52262</td>\n",
       "      <td>JWT</td>\n",
       "      <td>Airlines</td>\n",
       "      <td>Online</td>\n",
       "      <td>Value Plan</td>\n",
       "      <td>6</td>\n",
       "      <td>11</td>\n",
       "      <td>39.0</td>\n",
       "      <td>15.60</td>\n",
       "      <td>118</td>\n",
       "      <td>0</td>\n",
       "    </tr>\n",
       "  </tbody>\n",
       "</table>\n",
       "<p>728 rows × 11 columns</p>\n",
       "</div>"
      ],
      "text/plain": [
       "       index Agency Agency Type Distribution Channel Product Name  Duration  \\\n",
       "46        46    JWT    Airlines               Online   Value Plan        49   \n",
       "88        88    JWT    Airlines               Online   Value Plan        22   \n",
       "108      109    JWT    Airlines               Online   Value Plan        46   \n",
       "131      132    JWT    Airlines               Online   Value Plan        89   \n",
       "154      156    JWT    Airlines               Online   Value Plan        68   \n",
       "...      ...    ...         ...                  ...          ...       ...   \n",
       "51550  52049    JWT    Airlines               Online   Value Plan         3   \n",
       "51579  52078    JWT    Airlines               Online   Value Plan         4   \n",
       "51706  52208    JWT    Airlines               Online   Value Plan         9   \n",
       "51711  52213    JZI    Airlines               Online   Value Plan        70   \n",
       "51759  52262    JWT    Airlines               Online   Value Plan         6   \n",
       "\n",
       "       Destination  Net Sales  Commision (in value)  Age  Claim  \n",
       "46              11       31.0                 12.40  118      0  \n",
       "88              11       50.0                 20.00  118      0  \n",
       "108             11       31.0                 12.40  118      0  \n",
       "131             11      117.0                 46.80  118      0  \n",
       "154             11      180.0                 72.00  118      0  \n",
       "...            ...        ...                   ...  ...    ...  \n",
       "51550           11       31.0                 12.40  118      0  \n",
       "51579           11       31.0                 12.40  118      0  \n",
       "51706           11       31.0                 12.40  118      0  \n",
       "51711            7        0.0                 25.55  118      0  \n",
       "51759           11       39.0                 15.60  118      0  \n",
       "\n",
       "[728 rows x 11 columns]"
      ]
     },
     "execution_count": 153,
     "metadata": {},
     "output_type": "execute_result"
    }
   ],
   "source": [
    "df[df[\"Age\"]>100]"
   ]
  },
  {
   "cell_type": "code",
   "execution_count": 154,
   "metadata": {},
   "outputs": [
    {
     "data": {
      "text/plain": [
       "<matplotlib.axes._subplots.AxesSubplot at 0x7fbc36791590>"
      ]
     },
     "execution_count": 154,
     "metadata": {},
     "output_type": "execute_result"
    },
    {
     "data": {
      "image/png": "[encoded data removed]",
      "text/plain": [
       "<Figure size 432x288 with 1 Axes>"
      ]
     },
     "metadata": {
      "needs_background": "light"
     },
     "output_type": "display_data"
    }
   ],
   "source": [
    "df[\"Commision (in value)\"].hist()"
   ]
  },
  {
   "cell_type": "code",
   "execution_count": 155,
   "metadata": {},
   "outputs": [
    {
     "data": {
      "text/html": [
       "<div>\n",
       "<style scoped>\n",
       "    .dataframe tbody tr th:only-of-type {\n",
       "        vertical-align: middle;\n",
       "    }\n",
       "\n",
       "    .dataframe tbody tr th {\n",
       "        vertical-align: top;\n",
       "    }\n",
       "\n",
       "    .dataframe thead th {\n",
       "        text-align: right;\n",
       "    }\n",
       "</style>\n",
       "<table border=\"1\" class=\"dataframe\">\n",
       "  <thead>\n",
       "    <tr style=\"text-align: right;\">\n",
       "      <th></th>\n",
       "      <th>index</th>\n",
       "      <th>Duration</th>\n",
       "      <th>Destination</th>\n",
       "      <th>Net Sales</th>\n",
       "      <th>Commision (in value)</th>\n",
       "      <th>Age</th>\n",
       "      <th>Claim</th>\n",
       "    </tr>\n",
       "  </thead>\n",
       "  <tbody>\n",
       "    <tr>\n",
       "      <th>index</th>\n",
       "      <td>1.000000</td>\n",
       "      <td>-0.003951</td>\n",
       "      <td>0.001016</td>\n",
       "      <td>-0.003228</td>\n",
       "      <td>-0.000692</td>\n",
       "      <td>-0.001684</td>\n",
       "      <td>0.001676</td>\n",
       "    </tr>\n",
       "    <tr>\n",
       "      <th>Duration</th>\n",
       "      <td>-0.003951</td>\n",
       "      <td>1.000000</td>\n",
       "      <td>-0.107750</td>\n",
       "      <td>0.615220</td>\n",
       "      <td>0.485056</td>\n",
       "      <td>-0.003668</td>\n",
       "      <td>0.203421</td>\n",
       "    </tr>\n",
       "    <tr>\n",
       "      <th>Destination</th>\n",
       "      <td>0.001016</td>\n",
       "      <td>-0.107750</td>\n",
       "      <td>1.000000</td>\n",
       "      <td>-0.106180</td>\n",
       "      <td>-0.069468</td>\n",
       "      <td>0.053530</td>\n",
       "      <td>-0.231219</td>\n",
       "    </tr>\n",
       "    <tr>\n",
       "      <th>Net Sales</th>\n",
       "      <td>-0.003228</td>\n",
       "      <td>0.615220</td>\n",
       "      <td>-0.106180</td>\n",
       "      <td>1.000000</td>\n",
       "      <td>0.769371</td>\n",
       "      <td>0.023739</td>\n",
       "      <td>0.326780</td>\n",
       "    </tr>\n",
       "    <tr>\n",
       "      <th>Commision (in value)</th>\n",
       "      <td>-0.000692</td>\n",
       "      <td>0.485056</td>\n",
       "      <td>-0.069468</td>\n",
       "      <td>0.769371</td>\n",
       "      <td>1.000000</td>\n",
       "      <td>0.087905</td>\n",
       "      <td>0.263561</td>\n",
       "    </tr>\n",
       "    <tr>\n",
       "      <th>Age</th>\n",
       "      <td>-0.001684</td>\n",
       "      <td>-0.003668</td>\n",
       "      <td>0.053530</td>\n",
       "      <td>0.023739</td>\n",
       "      <td>0.087905</td>\n",
       "      <td>1.000000</td>\n",
       "      <td>-0.060716</td>\n",
       "    </tr>\n",
       "    <tr>\n",
       "      <th>Claim</th>\n",
       "      <td>0.001676</td>\n",
       "      <td>0.203421</td>\n",
       "      <td>-0.231219</td>\n",
       "      <td>0.326780</td>\n",
       "      <td>0.263561</td>\n",
       "      <td>-0.060716</td>\n",
       "      <td>1.000000</td>\n",
       "    </tr>\n",
       "  </tbody>\n",
       "</table>\n",
       "</div>"
      ],
      "text/plain": [
       "                         index  Duration  Destination  Net Sales  \\\n",
       "index                 1.000000 -0.003951     0.001016  -0.003228   \n",
       "Duration             -0.003951  1.000000    -0.107750   0.615220   \n",
       "Destination           0.001016 -0.107750     1.000000  -0.106180   \n",
       "Net Sales            -0.003228  0.615220    -0.106180   1.000000   \n",
       "Commision (in value) -0.000692  0.485056    -0.069468   0.769371   \n",
       "Age                  -0.001684 -0.003668     0.053530   0.023739   \n",
       "Claim                 0.001676  0.203421    -0.231219   0.326780   \n",
       "\n",
       "                      Commision (in value)       Age     Claim  \n",
       "index                            -0.000692 -0.001684  0.001676  \n",
       "Duration                          0.485056 -0.003668  0.203421  \n",
       "Destination                      -0.069468  0.053530 -0.231219  \n",
       "Net Sales                         0.769371  0.023739  0.326780  \n",
       "Commision (in value)              1.000000  0.087905  0.263561  \n",
       "Age                               0.087905  1.000000 -0.060716  \n",
       "Claim                             0.263561 -0.060716  1.000000  "
      ]
     },
     "execution_count": 155,
     "metadata": {},
     "output_type": "execute_result"
    }
   ],
   "source": [
    "df.corr()"
   ]
  },
  {
   "cell_type": "code",
   "execution_count": 160,
   "metadata": {},
   "outputs": [
    {
     "data": {
      "text/plain": [
       "<matplotlib.axes._subplots.AxesSubplot at 0x7fbc35d72250>"
      ]
     },
     "execution_count": 160,
     "metadata": {},
     "output_type": "execute_result"
    },
    {
     "data": {
      "image/png": "[encoded data removed]",
      "text/plain": [
       "<Figure size 432x288 with 2 Axes>"
      ]
     },
     "metadata": {
      "needs_background": "light"
     },
     "output_type": "display_data"
    }
   ],
   "source": [
    "sns.heatmap(df.corr(),annot=True,cmap=\"rocket\",fmt=\"0.2f\")"
   ]
  },
  {
   "cell_type": "code",
   "execution_count": 166,
   "metadata": {},
   "outputs": [
    {
     "name": "stderr",
     "output_type": "stream",
     "text": [
      "/Users/susmitvengurlekar/opt/miniconda3/lib/python3.7/site-packages/ipykernel_launcher.py:1: FutureWarning: Indexing with multiple keys (implicitly converted to a tuple of keys) will be deprecated, use a list instead.\n",
      "  \"\"\"Entry point for launching an IPython kernel.\n"
     ]
    },
    {
     "data": {
      "text/html": [
       "<div>\n",
       "<style scoped>\n",
       "    .dataframe tbody tr th:only-of-type {\n",
       "        vertical-align: middle;\n",
       "    }\n",
       "\n",
       "    .dataframe tbody tr th {\n",
       "        vertical-align: top;\n",
       "    }\n",
       "\n",
       "    .dataframe thead tr th {\n",
       "        text-align: left;\n",
       "    }\n",
       "\n",
       "    .dataframe thead tr:last-of-type th {\n",
       "        text-align: right;\n",
       "    }\n",
       "</style>\n",
       "<table border=\"1\" class=\"dataframe\">\n",
       "  <thead>\n",
       "    <tr>\n",
       "      <th></th>\n",
       "      <th>Commision (in value)</th>\n",
       "      <th>Net Sales</th>\n",
       "      <th>Age</th>\n",
       "    </tr>\n",
       "    <tr>\n",
       "      <th></th>\n",
       "      <th>mean</th>\n",
       "      <th>mean</th>\n",
       "      <th>mean</th>\n",
       "    </tr>\n",
       "    <tr>\n",
       "      <th>Claim</th>\n",
       "      <th></th>\n",
       "      <th></th>\n",
       "      <th></th>\n",
       "    </tr>\n",
       "  </thead>\n",
       "  <tbody>\n",
       "    <tr>\n",
       "      <th>0</th>\n",
       "      <td>9.413622</td>\n",
       "      <td>40.88584</td>\n",
       "      <td>39.923857</td>\n",
       "    </tr>\n",
       "    <tr>\n",
       "      <th>1</th>\n",
       "      <td>25.475816</td>\n",
       "      <td>92.73642</td>\n",
       "      <td>37.691176</td>\n",
       "    </tr>\n",
       "  </tbody>\n",
       "</table>\n",
       "</div>"
      ],
      "text/plain": [
       "      Commision (in value) Net Sales        Age\n",
       "                      mean      mean       mean\n",
       "Claim                                          \n",
       "0                 9.413622  40.88584  39.923857\n",
       "1                25.475816  92.73642  37.691176"
      ]
     },
     "execution_count": 166,
     "metadata": {},
     "output_type": "execute_result"
    }
   ],
   "source": [
    "df.groupby([\"Claim\"])[\"Commision (in value)\",\"Net Sales\",\"Age\"].agg([\"mean\"])"
   ]
  },
  {
   "cell_type": "code",
   "execution_count": null,
   "metadata": {},
   "outputs": [],
   "source": []
  }
 ],
 "metadata": {
  "kernelspec": {
   "display_name": "Python 3",
   "language": "python",
   "name": "python3"
  },
  "language_info": {
   "codemirror_mode": {
    "name": "ipython",
    "version": 3
   },
   "file_extension": ".py",
   "mimetype": "text/x-python",
   "name": "python",
   "nbconvert_exporter": "python",
   "pygments_lexer": "ipython3",
   "version": "3.7.6"
  },
  "toc": {
   "base_numbering": 1,
   "nav_menu": {},
   "number_sections": true,
   "sideBar": true,
   "skip_h1_title": false,
   "title_cell": "Table of Contents",
   "title_sidebar": "Contents",
   "toc_cell": false,
   "toc_position": {},
   "toc_section_display": true,
   "toc_window_display": false
  }
 },
 "nbformat": 4,
 "nbformat_minor": 4
}
